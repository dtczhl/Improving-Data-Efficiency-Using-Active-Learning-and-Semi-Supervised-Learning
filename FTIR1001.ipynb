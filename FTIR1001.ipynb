{
 "cells": [
  {
   "cell_type": "code",
   "execution_count": 1,
   "metadata": {},
   "outputs": [
    {
     "ename": "ModuleNotFoundError",
     "evalue": "No module named 'pandas'",
     "output_type": "error",
     "traceback": [
      "\u001b[0;31m---------------------------------------------------------------------------\u001b[0m",
      "\u001b[0;31mModuleNotFoundError\u001b[0m                       Traceback (most recent call last)",
      "\u001b[0;32m<ipython-input-1-2543e43cd670>\u001b[0m in \u001b[0;36m<module>\u001b[0;34m\u001b[0m\n\u001b[1;32m      1\u001b[0m \u001b[0;31m##import all packages\u001b[0m\u001b[0;34m\u001b[0m\u001b[0;34m\u001b[0m\u001b[0;34m\u001b[0m\u001b[0m\n\u001b[0;32m----> 2\u001b[0;31m \u001b[0;32mimport\u001b[0m \u001b[0mpandas\u001b[0m \u001b[0;32mas\u001b[0m \u001b[0mpd\u001b[0m\u001b[0;34m\u001b[0m\u001b[0;34m\u001b[0m\u001b[0m\n\u001b[0m\u001b[1;32m      3\u001b[0m \u001b[0;32mimport\u001b[0m \u001b[0mos\u001b[0m\u001b[0;34m\u001b[0m\u001b[0;34m\u001b[0m\u001b[0m\n\u001b[1;32m      4\u001b[0m \u001b[0;32mimport\u001b[0m \u001b[0mmatplotlib\u001b[0m\u001b[0;34m.\u001b[0m\u001b[0mpyplot\u001b[0m \u001b[0;32mas\u001b[0m \u001b[0mplt\u001b[0m\u001b[0;34m\u001b[0m\u001b[0;34m\u001b[0m\u001b[0m\n\u001b[1;32m      5\u001b[0m \u001b[0;34m\u001b[0m\u001b[0m\n",
      "\u001b[0;31mModuleNotFoundError\u001b[0m: No module named 'pandas'"
     ]
    }
   ],
   "source": [
    "##import all packages\n",
    "import pandas as pd\n",
    "import os\n",
    "import matplotlib.pyplot as plt\n",
    "\n",
    "import numpy as np\n",
    "from sklearn.preprocessing import LabelEncoder\n",
    "from sklearn import preprocessing\n",
    "from sklearn.preprocessing import normalize\n",
    "\n",
    "from sklearn.model_selection import train_test_split\n",
    "import matplotlib \n",
    "import lightgbm as lgb\n",
    "from sklearn import model_selection, preprocessing, metrics\n",
    "from sklearn.model_selection import GridSearchCV\n",
    "from sklearn.model_selection import KFold\n",
    "import time\n",
    "from sklearn.metrics import mean_squared_error\n",
    "from sklearn.metrics import confusion_matrix\n",
    "import seaborn as sns\n",
    "from sklearn.decomposition import PCA\n",
    "from sklearn.preprocessing import label_binarize\n",
    "from sklearn.metrics import roc_curve, auc\n",
    "from scipy import interp\n",
    "\n",
    "import numpy as np\n",
    "import matplotlib.pyplot as plt\n",
    "from itertools import cycle\n",
    "\n",
    "from sklearn import svm, datasets\n",
    "from sklearn.metrics import roc_curve, auc\n",
    "from sklearn.model_selection import train_test_split\n",
    "from sklearn.preprocessing import label_binarize\n",
    "from sklearn.multiclass import OneVsRestClassifier\n",
    "from scipy import interp"
   ]
  },
  {
   "cell_type": "code",
   "execution_count": 3,
   "metadata": {},
   "outputs": [
    {
     "data": {
      "text/plain": [
       "'0-1-1.txt'"
      ]
     },
     "execution_count": 3,
     "metadata": {},
     "output_type": "execute_result"
    }
   ],
   "source": [
    "#put your data directory here; \n",
    "dire='data/'\n",
    "filenames=os.listdir(dire)\n",
    "filenames[0]"
   ]
  },
  {
   "cell_type": "code",
   "execution_count": 4,
   "metadata": {},
   "outputs": [],
   "source": [
    "#Below is to read all files from the directory into Pandas DataFrame"
   ]
  },
  {
   "cell_type": "code",
   "execution_count": 5,
   "metadata": {
    "scrolled": true
   },
   "outputs": [],
   "source": [
    "df=pd.DataFrame()\n",
    "for i in range(len(filenames)):\n",
    "    with open('data/'+filenames[i]) as f: \n",
    "        for j, c in enumerate(f):\n",
    "            if j in list([0,1,2,3]): \n",
    "                continue\n",
    "            else: \n",
    "                c=c.replace('\\t',' ')\n",
    "                c=c.replace('\\n',' ')\n",
    "                temp=c.split()\n",
    "                colnames=float(temp[0])\n",
    "                colvalues=float(temp[1])\n",
    "                df.loc[i,colnames]=colvalues\n",
    "        df.loc[i,'group']=filenames[i][0:3]\n",
    "    f.close() "
   ]
  },
  {
   "cell_type": "code",
   "execution_count": 6,
   "metadata": {},
   "outputs": [
    {
     "data": {
      "text/plain": [
       "(116, 1869)"
      ]
     },
     "execution_count": 6,
     "metadata": {},
     "output_type": "execute_result"
    }
   ],
   "source": [
    "#just to check the shape of the dataFrame; Here, I have 116 samples and 1869 columns; each row is a ir spectra\n",
    "df.shape"
   ]
  },
  {
   "cell_type": "code",
   "execution_count": 7,
   "metadata": {},
   "outputs": [],
   "source": [
    "#\"group\" column refers to Y, like naocl concentration; originally it is 0ppm; I convert it to numeric number 0; "
   ]
  },
  {
   "cell_type": "code",
   "execution_count": 8,
   "metadata": {},
   "outputs": [],
   "source": [
    "df['group']=df['group'].apply(lambda x: x.split('-')[0])"
   ]
  },
  {
   "cell_type": "code",
   "execution_count": 9,
   "metadata": {},
   "outputs": [],
   "source": [
    "df['group']=df['group'].astype('int64') #change to numberic data type"
   ]
  },
  {
   "cell_type": "code",
   "execution_count": 10,
   "metadata": {},
   "outputs": [
    {
     "data": {
      "text/plain": [
       "0      0\n",
       "1      0\n",
       "2      0\n",
       "3      0\n",
       "4      0\n",
       "      ..\n",
       "111    2\n",
       "112    2\n",
       "113    2\n",
       "114    2\n",
       "115    2\n",
       "Name: group, Length: 116, dtype: int64"
      ]
     },
     "execution_count": 10,
     "metadata": {},
     "output_type": "execute_result"
    }
   ],
   "source": [
    "df['group'] #view the 'group' column; "
   ]
  },
  {
   "cell_type": "code",
   "execution_count": 11,
   "metadata": {
    "scrolled": true
   },
   "outputs": [
    {
     "data": {
      "text/html": [
       "<div>\n",
       "<style scoped>\n",
       "    .dataframe tbody tr th:only-of-type {\n",
       "        vertical-align: middle;\n",
       "    }\n",
       "\n",
       "    .dataframe tbody tr th {\n",
       "        vertical-align: top;\n",
       "    }\n",
       "\n",
       "    .dataframe thead th {\n",
       "        text-align: right;\n",
       "    }\n",
       "</style>\n",
       "<table border=\"1\" class=\"dataframe\">\n",
       "  <thead>\n",
       "    <tr style=\"text-align: right;\">\n",
       "      <th></th>\n",
       "      <th>399.264912</th>\n",
       "      <th>401.193728</th>\n",
       "      <th>403.122544</th>\n",
       "      <th>405.05136</th>\n",
       "      <th>406.980176</th>\n",
       "      <th>408.908992</th>\n",
       "      <th>410.837808</th>\n",
       "      <th>412.766624</th>\n",
       "      <th>414.69544</th>\n",
       "      <th>416.624256</th>\n",
       "      <th>...</th>\n",
       "      <th>3984.933856</th>\n",
       "      <th>3986.862672</th>\n",
       "      <th>3988.791488</th>\n",
       "      <th>3990.720304</th>\n",
       "      <th>3992.64912</th>\n",
       "      <th>3994.577936</th>\n",
       "      <th>3996.506752</th>\n",
       "      <th>3998.435568</th>\n",
       "      <th>4000.364384</th>\n",
       "      <th>group</th>\n",
       "    </tr>\n",
       "  </thead>\n",
       "  <tbody>\n",
       "    <tr>\n",
       "      <th>0</th>\n",
       "      <td>0.301701</td>\n",
       "      <td>0.294672</td>\n",
       "      <td>0.289537</td>\n",
       "      <td>0.289767</td>\n",
       "      <td>0.293918</td>\n",
       "      <td>0.291378</td>\n",
       "      <td>0.292264</td>\n",
       "      <td>0.293039</td>\n",
       "      <td>0.296029</td>\n",
       "      <td>0.294190</td>\n",
       "      <td>...</td>\n",
       "      <td>-0.005187</td>\n",
       "      <td>-0.005284</td>\n",
       "      <td>-0.005112</td>\n",
       "      <td>-0.004983</td>\n",
       "      <td>-0.005048</td>\n",
       "      <td>-0.005271</td>\n",
       "      <td>-0.005302</td>\n",
       "      <td>-0.005078</td>\n",
       "      <td>-0.004994</td>\n",
       "      <td>0</td>\n",
       "    </tr>\n",
       "    <tr>\n",
       "      <th>1</th>\n",
       "      <td>0.295744</td>\n",
       "      <td>0.301910</td>\n",
       "      <td>0.303336</td>\n",
       "      <td>0.298129</td>\n",
       "      <td>0.294406</td>\n",
       "      <td>0.294841</td>\n",
       "      <td>0.304971</td>\n",
       "      <td>0.300985</td>\n",
       "      <td>0.297749</td>\n",
       "      <td>0.298261</td>\n",
       "      <td>...</td>\n",
       "      <td>-0.010776</td>\n",
       "      <td>-0.010874</td>\n",
       "      <td>-0.010809</td>\n",
       "      <td>-0.010801</td>\n",
       "      <td>-0.010824</td>\n",
       "      <td>-0.010990</td>\n",
       "      <td>-0.011050</td>\n",
       "      <td>-0.010955</td>\n",
       "      <td>-0.010790</td>\n",
       "      <td>0</td>\n",
       "    </tr>\n",
       "    <tr>\n",
       "      <th>2</th>\n",
       "      <td>0.285480</td>\n",
       "      <td>0.275916</td>\n",
       "      <td>0.279928</td>\n",
       "      <td>0.281707</td>\n",
       "      <td>0.280182</td>\n",
       "      <td>0.266190</td>\n",
       "      <td>0.264748</td>\n",
       "      <td>0.274143</td>\n",
       "      <td>0.279980</td>\n",
       "      <td>0.272110</td>\n",
       "      <td>...</td>\n",
       "      <td>-0.006654</td>\n",
       "      <td>-0.006793</td>\n",
       "      <td>-0.006762</td>\n",
       "      <td>-0.006687</td>\n",
       "      <td>-0.006643</td>\n",
       "      <td>-0.006857</td>\n",
       "      <td>-0.006813</td>\n",
       "      <td>-0.006640</td>\n",
       "      <td>-0.006643</td>\n",
       "      <td>0</td>\n",
       "    </tr>\n",
       "    <tr>\n",
       "      <th>3</th>\n",
       "      <td>0.287223</td>\n",
       "      <td>0.284157</td>\n",
       "      <td>0.289416</td>\n",
       "      <td>0.292241</td>\n",
       "      <td>0.295322</td>\n",
       "      <td>0.292028</td>\n",
       "      <td>0.293807</td>\n",
       "      <td>0.291916</td>\n",
       "      <td>0.297062</td>\n",
       "      <td>0.299274</td>\n",
       "      <td>...</td>\n",
       "      <td>-0.006619</td>\n",
       "      <td>-0.006585</td>\n",
       "      <td>-0.006439</td>\n",
       "      <td>-0.006425</td>\n",
       "      <td>-0.006428</td>\n",
       "      <td>-0.006457</td>\n",
       "      <td>-0.006486</td>\n",
       "      <td>-0.006479</td>\n",
       "      <td>-0.006379</td>\n",
       "      <td>0</td>\n",
       "    </tr>\n",
       "    <tr>\n",
       "      <th>4</th>\n",
       "      <td>0.273319</td>\n",
       "      <td>0.280499</td>\n",
       "      <td>0.285928</td>\n",
       "      <td>0.284179</td>\n",
       "      <td>0.282532</td>\n",
       "      <td>0.273730</td>\n",
       "      <td>0.275887</td>\n",
       "      <td>0.277402</td>\n",
       "      <td>0.279600</td>\n",
       "      <td>0.281498</td>\n",
       "      <td>...</td>\n",
       "      <td>-0.007211</td>\n",
       "      <td>-0.007333</td>\n",
       "      <td>-0.007209</td>\n",
       "      <td>-0.007146</td>\n",
       "      <td>-0.007099</td>\n",
       "      <td>-0.007238</td>\n",
       "      <td>-0.007311</td>\n",
       "      <td>-0.007185</td>\n",
       "      <td>-0.007069</td>\n",
       "      <td>0</td>\n",
       "    </tr>\n",
       "  </tbody>\n",
       "</table>\n",
       "<p>5 rows × 1869 columns</p>\n",
       "</div>"
      ],
      "text/plain": [
       "   399.264912  401.193728  403.122544  405.05136  406.980176  408.908992  \\\n",
       "0    0.301701    0.294672    0.289537   0.289767    0.293918    0.291378   \n",
       "1    0.295744    0.301910    0.303336   0.298129    0.294406    0.294841   \n",
       "2    0.285480    0.275916    0.279928   0.281707    0.280182    0.266190   \n",
       "3    0.287223    0.284157    0.289416   0.292241    0.295322    0.292028   \n",
       "4    0.273319    0.280499    0.285928   0.284179    0.282532    0.273730   \n",
       "\n",
       "   410.837808  412.766624  414.69544  416.624256  ...  3984.933856  \\\n",
       "0    0.292264    0.293039   0.296029    0.294190  ...    -0.005187   \n",
       "1    0.304971    0.300985   0.297749    0.298261  ...    -0.010776   \n",
       "2    0.264748    0.274143   0.279980    0.272110  ...    -0.006654   \n",
       "3    0.293807    0.291916   0.297062    0.299274  ...    -0.006619   \n",
       "4    0.275887    0.277402   0.279600    0.281498  ...    -0.007211   \n",
       "\n",
       "   3986.862672  3988.791488  3990.720304  3992.64912  3994.577936  \\\n",
       "0    -0.005284    -0.005112    -0.004983   -0.005048    -0.005271   \n",
       "1    -0.010874    -0.010809    -0.010801   -0.010824    -0.010990   \n",
       "2    -0.006793    -0.006762    -0.006687   -0.006643    -0.006857   \n",
       "3    -0.006585    -0.006439    -0.006425   -0.006428    -0.006457   \n",
       "4    -0.007333    -0.007209    -0.007146   -0.007099    -0.007238   \n",
       "\n",
       "   3996.506752  3998.435568  4000.364384  group  \n",
       "0    -0.005302    -0.005078    -0.004994      0  \n",
       "1    -0.011050    -0.010955    -0.010790      0  \n",
       "2    -0.006813    -0.006640    -0.006643      0  \n",
       "3    -0.006486    -0.006479    -0.006379      0  \n",
       "4    -0.007311    -0.007185    -0.007069      0  \n",
       "\n",
       "[5 rows x 1869 columns]"
      ]
     },
     "execution_count": 11,
     "metadata": {},
     "output_type": "execute_result"
    }
   ],
   "source": [
    "df.head() # see head of the data frame; "
   ]
  },
  {
   "cell_type": "markdown",
   "metadata": {},
   "source": [
    "#below is to split the data into X and Y; "
   ]
  },
  {
   "cell_type": "code",
   "execution_count": 12,
   "metadata": {},
   "outputs": [],
   "source": [
    "train_set=df.drop(['group'],axis=1)\n",
    "target=df['group']"
   ]
  },
  {
   "cell_type": "code",
   "execution_count": 13,
   "metadata": {},
   "outputs": [
    {
     "data": {
      "text/plain": [
       "array([ 0,  0,  0,  0,  0,  0,  0,  0,  0,  0,  0,  0,  0,  0,  0,  0,  0,\n",
       "        0,  0,  0,  0,  0,  0,  0,  0,  0,  0,  0,  0,  0, 10, 10, 10, 10,\n",
       "       10, 10, 10, 10, 10, 10, 10, 10, 10, 10, 10, 10, 10, 10, 10, 10, 10,\n",
       "       10, 10, 10, 10, 10, 10, 15, 15, 15, 15, 15, 15, 15, 15, 15, 15, 15,\n",
       "       15, 15, 15, 15, 15, 15, 15, 15, 15, 15, 15, 15, 15, 15, 15, 15, 15,\n",
       "       15,  2,  2,  2,  2,  2,  2,  2,  2,  2,  2,  2,  2,  2,  2,  2,  2,\n",
       "        2,  2,  2,  2,  2,  2,  2,  2,  2,  2,  2,  2,  2,  2],\n",
       "      dtype=int64)"
      ]
     },
     "execution_count": 13,
     "metadata": {},
     "output_type": "execute_result"
    }
   ],
   "source": [
    "target.values"
   ]
  },
  {
   "cell_type": "code",
   "execution_count": 14,
   "metadata": {},
   "outputs": [
    {
     "data": {
      "text/plain": [
       "(116, 1868)"
      ]
     },
     "execution_count": 14,
     "metadata": {},
     "output_type": "execute_result"
    }
   ],
   "source": [
    "train_set.shape"
   ]
  },
  {
   "cell_type": "markdown",
   "metadata": {},
   "source": [
    "PCA analysis"
   ]
  },
  {
   "cell_type": "code",
   "execution_count": 15,
   "metadata": {},
   "outputs": [],
   "source": [
    "#standardize the data before runing PCA"
   ]
  },
  {
   "cell_type": "code",
   "execution_count": 16,
   "metadata": {},
   "outputs": [],
   "source": [
    "stand = preprocessing.StandardScaler()\n",
    "stand.fit(train_set)\n",
    "data = stand.transform(train_set)"
   ]
  },
  {
   "cell_type": "code",
   "execution_count": 17,
   "metadata": {},
   "outputs": [
    {
     "data": {
      "text/plain": [
       "PCA(copy=True, iterated_power='auto', n_components=2, random_state=None,\n",
       "    svd_solver='auto', tol=0.0, whiten=False)"
      ]
     },
     "execution_count": 17,
     "metadata": {},
     "output_type": "execute_result"
    }
   ],
   "source": [
    "#fit the data with PCA\n",
    "pca = PCA(n_components=2)\n",
    "pca.fit(data)"
   ]
  },
  {
   "cell_type": "code",
   "execution_count": 18,
   "metadata": {},
   "outputs": [],
   "source": [
    "# reduced_data is the data obtained after PCA transformation; \n",
    "reduced_data =  pca.transform(data) \n",
    "reduced_data = pd.DataFrame(reduced_data, columns = ['Dimension 1', 'Dimension 2'])"
   ]
  },
  {
   "cell_type": "code",
   "execution_count": 19,
   "metadata": {},
   "outputs": [],
   "source": [
    "le = preprocessing.LabelEncoder()\n",
    "target_label=le.fit_transform(target)"
   ]
  },
  {
   "cell_type": "code",
   "execution_count": 20,
   "metadata": {
    "scrolled": true
   },
   "outputs": [
    {
     "data": {
      "text/plain": [
       "Text(0.5, 1.0, 'PC plane with feature projections')"
      ]
     },
     "execution_count": 20,
     "metadata": {},
     "output_type": "execute_result"
    },
    {
     "data": {
      "image/png": "[encoded data removed]",
      "text/plain": [
       "<Figure size 720x576 with 1 Axes>"
      ]
     },
     "metadata": {
      "needs_background": "light"
     },
     "output_type": "display_data"
    }
   ],
   "source": [
    "#below is PCA visualzation\n",
    "%matplotlib inline\n",
    "\n",
    "import matplotlib\n",
    "import numpy as np\n",
    "import matplotlib.pyplot as plt\n",
    "\n",
    "colors = ['red','green','blue','purple']\n",
    "labels=[0,2,10,15]\n",
    "fig, ax = plt.subplots(figsize = (10,8))\n",
    "\n",
    "#I used scatte plot; plot each naocl label separately; \n",
    "for g in np.unique(target_label):\n",
    "    temp= target_label==g\n",
    "    ax.scatter(x=reduced_data.loc[temp, 'Dimension 1'], y=reduced_data.loc[temp, 'Dimension 2'], c = colors[g], label = labels[g], s = 100)\n",
    "#ax.scatter(x=reduced_data.loc[:, 'Dimension 1'], y=reduced_data.loc[:, 'Dimension 2'], s=70, alpha=0.5,c=target_label,label=colors,cmap=matplotlib.colors.ListedColormap(colors))\n",
    "feature_vectors = pca.components_.T \n",
    "\n",
    "ax.set_xlabel(\"Dimension 1\", fontsize=14)\n",
    "ax.set_ylabel(\"Dimension 2\", fontsize=14)\n",
    "ax.legend()\n",
    "ax.set_title(\"PC plane with feature projections\", fontsize=16)"
   ]
  },
  {
   "cell_type": "code",
   "execution_count": 21,
   "metadata": {},
   "outputs": [
    {
     "data": {
      "text/html": [
       "<div>\n",
       "<style scoped>\n",
       "    .dataframe tbody tr th:only-of-type {\n",
       "        vertical-align: middle;\n",
       "    }\n",
       "\n",
       "    .dataframe tbody tr th {\n",
       "        vertical-align: top;\n",
       "    }\n",
       "\n",
       "    .dataframe thead th {\n",
       "        text-align: right;\n",
       "    }\n",
       "</style>\n",
       "<table border=\"1\" class=\"dataframe\">\n",
       "  <thead>\n",
       "    <tr style=\"text-align: right;\">\n",
       "      <th></th>\n",
       "      <th>399.264912</th>\n",
       "      <th>401.193728</th>\n",
       "      <th>403.122544</th>\n",
       "      <th>405.051360</th>\n",
       "      <th>406.980176</th>\n",
       "      <th>408.908992</th>\n",
       "      <th>410.837808</th>\n",
       "      <th>412.766624</th>\n",
       "      <th>414.695440</th>\n",
       "      <th>416.624256</th>\n",
       "      <th>...</th>\n",
       "      <th>3983.005040</th>\n",
       "      <th>3984.933856</th>\n",
       "      <th>3986.862672</th>\n",
       "      <th>3988.791488</th>\n",
       "      <th>3990.720304</th>\n",
       "      <th>3992.649120</th>\n",
       "      <th>3994.577936</th>\n",
       "      <th>3996.506752</th>\n",
       "      <th>3998.435568</th>\n",
       "      <th>4000.364384</th>\n",
       "    </tr>\n",
       "  </thead>\n",
       "  <tbody>\n",
       "    <tr>\n",
       "      <th>Dimension 0</th>\n",
       "      <td>0.0036</td>\n",
       "      <td>0.0040</td>\n",
       "      <td>0.0039</td>\n",
       "      <td>0.0038</td>\n",
       "      <td>0.0040</td>\n",
       "      <td>0.0037</td>\n",
       "      <td>0.0037</td>\n",
       "      <td>0.0035</td>\n",
       "      <td>0.0031</td>\n",
       "      <td>0.0032</td>\n",
       "      <td>...</td>\n",
       "      <td>-0.0067</td>\n",
       "      <td>-0.0066</td>\n",
       "      <td>-0.0066</td>\n",
       "      <td>-0.0069</td>\n",
       "      <td>-0.0072</td>\n",
       "      <td>-0.0070</td>\n",
       "      <td>-0.0069</td>\n",
       "      <td>-0.0066</td>\n",
       "      <td>-0.0064</td>\n",
       "      <td>-0.0064</td>\n",
       "    </tr>\n",
       "    <tr>\n",
       "      <th>Dimension 1</th>\n",
       "      <td>-0.0337</td>\n",
       "      <td>-0.0334</td>\n",
       "      <td>-0.0330</td>\n",
       "      <td>-0.0329</td>\n",
       "      <td>-0.0329</td>\n",
       "      <td>-0.0330</td>\n",
       "      <td>-0.0331</td>\n",
       "      <td>-0.0333</td>\n",
       "      <td>-0.0335</td>\n",
       "      <td>-0.0338</td>\n",
       "      <td>...</td>\n",
       "      <td>0.0387</td>\n",
       "      <td>0.0388</td>\n",
       "      <td>0.0388</td>\n",
       "      <td>0.0386</td>\n",
       "      <td>0.0379</td>\n",
       "      <td>0.0382</td>\n",
       "      <td>0.0384</td>\n",
       "      <td>0.0385</td>\n",
       "      <td>0.0389</td>\n",
       "      <td>0.0390</td>\n",
       "    </tr>\n",
       "  </tbody>\n",
       "</table>\n",
       "<p>2 rows × 1868 columns</p>\n",
       "</div>"
      ],
      "text/plain": [
       "             399.264912   401.193728   403.122544   405.051360   406.980176   \\\n",
       "Dimension 0       0.0036       0.0040       0.0039       0.0038       0.0040   \n",
       "Dimension 1      -0.0337      -0.0334      -0.0330      -0.0329      -0.0329   \n",
       "\n",
       "             408.908992   410.837808   412.766624   414.695440   416.624256   \\\n",
       "Dimension 0       0.0037       0.0037       0.0035       0.0031       0.0032   \n",
       "Dimension 1      -0.0330      -0.0331      -0.0333      -0.0335      -0.0338   \n",
       "\n",
       "             ...  3983.005040  3984.933856  3986.862672  3988.791488  \\\n",
       "Dimension 0  ...      -0.0067      -0.0066      -0.0066      -0.0069   \n",
       "Dimension 1  ...       0.0387       0.0388       0.0388       0.0386   \n",
       "\n",
       "             3990.720304  3992.649120  3994.577936  3996.506752  3998.435568  \\\n",
       "Dimension 0      -0.0072      -0.0070      -0.0069      -0.0066      -0.0064   \n",
       "Dimension 1       0.0379       0.0382       0.0384       0.0385       0.0389   \n",
       "\n",
       "             4000.364384  \n",
       "Dimension 0      -0.0064  \n",
       "Dimension 1       0.0390  \n",
       "\n",
       "[2 rows x 1868 columns]"
      ]
     },
     "execution_count": 21,
     "metadata": {},
     "output_type": "execute_result"
    }
   ],
   "source": [
    "#this is to see all components; \n",
    "dimensions = ['Dimension {}'.format(i) for i in range(2)]\n",
    "components = pd.DataFrame(np.round(pca.components_, 4))\n",
    "components.index = dimensions\n",
    "components.columns=list(train_set.columns.values)\n",
    "components"
   ]
  },
  {
   "cell_type": "code",
   "execution_count": 22,
   "metadata": {},
   "outputs": [
    {
     "data": {
      "text/plain": [
       "array([0.56674644, 0.26950864])"
      ]
     },
     "execution_count": 22,
     "metadata": {},
     "output_type": "execute_result"
    }
   ],
   "source": [
    "#this is how much percentage of variance each component explains\n",
    "\n",
    "pca.explained_variance_ratio_"
   ]
  },
  {
   "cell_type": "markdown",
   "metadata": {},
   "source": [
    "### try with light gbm classification: "
   ]
  },
  {
   "cell_type": "code",
   "execution_count": 23,
   "metadata": {},
   "outputs": [],
   "source": [
    "#target_cf is the category of each y class; \n",
    "target_cf=target.astype('category')"
   ]
  },
  {
   "cell_type": "code",
   "execution_count": 24,
   "metadata": {},
   "outputs": [],
   "source": [
    "#this  convert each y category to numbers that model can take\n",
    "le = preprocessing.LabelEncoder()\n",
    "target_cf=le.fit_transform(target_cf)"
   ]
  },
  {
   "cell_type": "code",
   "execution_count": 25,
   "metadata": {},
   "outputs": [],
   "source": [
    "def run_cv(train_set,target,num_class): \n",
    "    #these are the hyperparameters for the model ; \n",
    "    param = {\n",
    "    'objective': 'multiclass',\n",
    "      'num_class':num_class,\n",
    "       'metric': 'multi_logloss',\n",
    "         'learning_rate': 0.0005,\n",
    "         \"boosting\": \"gbdt\",\n",
    "         \"feature_fraction\": 1,\n",
    "         \"bagging_freq\": 1,\n",
    "         \"bagging_fraction\": 0.7083 ,\n",
    "         \"bagging_seed\": 11,\n",
    "         \"lambda_l1\": 0.2634,\n",
    "         \"random_state\": 133,\n",
    "        \"verbose\": -1\n",
    "        }\n",
    "    folds = KFold(n_splits=5, shuffle=True, random_state=15) # 5 fold CV; \n",
    "    oof = np.zeros([len(train_set),num_class])\n",
    "    feature_importance_df = pd.DataFrame()\n",
    "    \n",
    "    #below is to split the entire dataset into train and test sets; Train on train set and evaluate on test set\n",
    "    for fold_, (trn_idx, val_idx) in enumerate(folds.split(train_set.values, target)):\n",
    "        print(\"fold n°{}\".format(fold_))\n",
    "        trn_data = lgb.Dataset(train_set.iloc[trn_idx], label=target[trn_idx],\n",
    "                              )\n",
    "                \n",
    "        val_data = lgb.Dataset(train_set.iloc[val_idx], label=target[val_idx],\n",
    "                               )\n",
    "                    \n",
    "        num_round = 10000\n",
    "        clf = lgb.train(param,\n",
    "                    trn_data,\n",
    "                    num_round,\n",
    "                    valid_sets = [val_data],\n",
    "                    verbose_eval=100,\n",
    "                  )\n",
    "    \n",
    "        oof[val_idx,:] = clf.predict(train_set.iloc[val_idx], num_iteration=clf.best_iteration)\n",
    "\n",
    "        fold_importance_df = pd.DataFrame()\n",
    "        fold_importance_df[\"feature\"] = train_set.columns\n",
    "        fold_importance_df[\"importance\"] = clf.feature_importance()\n",
    "        fold_importance_df[\"fold\"] = fold_ + 1\n",
    "        feature_importance_df = pd.concat([feature_importance_df, fold_importance_df], axis=0)\n",
    "    return feature_importance_df,oof \n",
    "#output feature importance dataframe and prediction result stored in oof; "
   ]
  },
  {
   "cell_type": "code",
   "execution_count": null,
   "metadata": {},
   "outputs": [],
   "source": []
  },
  {
   "cell_type": "code",
   "execution_count": null,
   "metadata": {},
   "outputs": [],
   "source": []
  },
  {
   "cell_type": "code",
   "execution_count": 26,
   "metadata": {},
   "outputs": [
    {
     "name": "stdout",
     "output_type": "stream",
     "text": [
      "fold n°0\n",
      "[100]\tvalid_0's multi_logloss: 1.32152\n",
      "[200]\tvalid_0's multi_logloss: 1.26121\n",
      "[300]\tvalid_0's multi_logloss: 1.20422\n",
      "[400]\tvalid_0's multi_logloss: 1.14805\n",
      "[500]\tvalid_0's multi_logloss: 1.09475\n",
      "[600]\tvalid_0's multi_logloss: 1.04508\n",
      "[700]\tvalid_0's multi_logloss: 0.99992\n",
      "[800]\tvalid_0's multi_logloss: 0.958385\n",
      "[900]\tvalid_0's multi_logloss: 0.919197\n",
      "[1000]\tvalid_0's multi_logloss: 0.883429\n",
      "[1100]\tvalid_0's multi_logloss: 0.850432\n",
      "[1200]\tvalid_0's multi_logloss: 0.81922\n",
      "[1300]\tvalid_0's multi_logloss: 0.79013\n",
      "[1400]\tvalid_0's multi_logloss: 0.762783\n",
      "[1500]\tvalid_0's multi_logloss: 0.737023\n",
      "[1600]\tvalid_0's multi_logloss: 0.713183\n",
      "[1700]\tvalid_0's multi_logloss: 0.690794\n",
      "[1800]\tvalid_0's multi_logloss: 0.669684\n",
      "[1900]\tvalid_0's multi_logloss: 0.649626\n",
      "[2000]\tvalid_0's multi_logloss: 0.63105\n",
      "[2100]\tvalid_0's multi_logloss: 0.614034\n",
      "[2200]\tvalid_0's multi_logloss: 0.597731\n",
      "[2300]\tvalid_0's multi_logloss: 0.582162\n",
      "[2400]\tvalid_0's multi_logloss: 0.567215\n",
      "[2500]\tvalid_0's multi_logloss: 0.553488\n",
      "[2600]\tvalid_0's multi_logloss: 0.540363\n",
      "[2700]\tvalid_0's multi_logloss: 0.527536\n",
      "[2800]\tvalid_0's multi_logloss: 0.515816\n",
      "[2900]\tvalid_0's multi_logloss: 0.50449\n",
      "[3000]\tvalid_0's multi_logloss: 0.493626\n",
      "[3100]\tvalid_0's multi_logloss: 0.483706\n",
      "[3200]\tvalid_0's multi_logloss: 0.474265\n",
      "[3300]\tvalid_0's multi_logloss: 0.465123\n",
      "[3400]\tvalid_0's multi_logloss: 0.456516\n",
      "[3500]\tvalid_0's multi_logloss: 0.448461\n",
      "[3600]\tvalid_0's multi_logloss: 0.440482\n",
      "[3700]\tvalid_0's multi_logloss: 0.433295\n",
      "[3800]\tvalid_0's multi_logloss: 0.426117\n",
      "[3900]\tvalid_0's multi_logloss: 0.419167\n",
      "[4000]\tvalid_0's multi_logloss: 0.412527\n",
      "[4100]\tvalid_0's multi_logloss: 0.406043\n",
      "[4200]\tvalid_0's multi_logloss: 0.400182\n",
      "[4300]\tvalid_0's multi_logloss: 0.39444\n",
      "[4400]\tvalid_0's multi_logloss: 0.388967\n",
      "[4500]\tvalid_0's multi_logloss: 0.383897\n",
      "[4600]\tvalid_0's multi_logloss: 0.37903\n",
      "[4700]\tvalid_0's multi_logloss: 0.374453\n",
      "[4800]\tvalid_0's multi_logloss: 0.370074\n",
      "[4900]\tvalid_0's multi_logloss: 0.365437\n",
      "[5000]\tvalid_0's multi_logloss: 0.361284\n",
      "[5100]\tvalid_0's multi_logloss: 0.357192\n",
      "[5200]\tvalid_0's multi_logloss: 0.353479\n",
      "[5300]\tvalid_0's multi_logloss: 0.349704\n",
      "[5400]\tvalid_0's multi_logloss: 0.346264\n",
      "[5500]\tvalid_0's multi_logloss: 0.342439\n",
      "[5600]\tvalid_0's multi_logloss: 0.338841\n",
      "[5700]\tvalid_0's multi_logloss: 0.335355\n",
      "[5800]\tvalid_0's multi_logloss: 0.332049\n",
      "[5900]\tvalid_0's multi_logloss: 0.328786\n",
      "[6000]\tvalid_0's multi_logloss: 0.325715\n",
      "[6100]\tvalid_0's multi_logloss: 0.322799\n",
      "[6200]\tvalid_0's multi_logloss: 0.32026\n",
      "[6300]\tvalid_0's multi_logloss: 0.317697\n",
      "[6400]\tvalid_0's multi_logloss: 0.315102\n",
      "[6500]\tvalid_0's multi_logloss: 0.312613\n",
      "[6600]\tvalid_0's multi_logloss: 0.310116\n",
      "[6700]\tvalid_0's multi_logloss: 0.307933\n",
      "[6800]\tvalid_0's multi_logloss: 0.305863\n",
      "[6900]\tvalid_0's multi_logloss: 0.303918\n",
      "[7000]\tvalid_0's multi_logloss: 0.301662\n",
      "[7100]\tvalid_0's multi_logloss: 0.299683\n",
      "[7200]\tvalid_0's multi_logloss: 0.297681\n",
      "[7300]\tvalid_0's multi_logloss: 0.295656\n",
      "[7400]\tvalid_0's multi_logloss: 0.293582\n",
      "[7500]\tvalid_0's multi_logloss: 0.291626\n",
      "[7600]\tvalid_0's multi_logloss: 0.2901\n",
      "[7700]\tvalid_0's multi_logloss: 0.288385\n",
      "[7800]\tvalid_0's multi_logloss: 0.286959\n",
      "[7900]\tvalid_0's multi_logloss: 0.285271\n",
      "[8000]\tvalid_0's multi_logloss: 0.283766\n",
      "[8100]\tvalid_0's multi_logloss: 0.282398\n",
      "[8200]\tvalid_0's multi_logloss: 0.280731\n",
      "[8300]\tvalid_0's multi_logloss: 0.279334\n",
      "[8400]\tvalid_0's multi_logloss: 0.277914\n",
      "[8500]\tvalid_0's multi_logloss: 0.276647\n",
      "[8600]\tvalid_0's multi_logloss: 0.275147\n",
      "[8700]\tvalid_0's multi_logloss: 0.273786\n",
      "[8800]\tvalid_0's multi_logloss: 0.272485\n",
      "[8900]\tvalid_0's multi_logloss: 0.271222\n",
      "[9000]\tvalid_0's multi_logloss: 0.27015\n",
      "[9100]\tvalid_0's multi_logloss: 0.268934\n",
      "[9200]\tvalid_0's multi_logloss: 0.267682\n",
      "[9300]\tvalid_0's multi_logloss: 0.266793\n",
      "[9400]\tvalid_0's multi_logloss: 0.265824\n",
      "[9500]\tvalid_0's multi_logloss: 0.264866\n",
      "[9600]\tvalid_0's multi_logloss: 0.263771\n",
      "[9700]\tvalid_0's multi_logloss: 0.26276\n",
      "[9800]\tvalid_0's multi_logloss: 0.261771\n",
      "[9900]\tvalid_0's multi_logloss: 0.260602\n",
      "[10000]\tvalid_0's multi_logloss: 0.25976\n",
      "fold n°1\n",
      "[100]\tvalid_0's multi_logloss: 1.34459\n",
      "[200]\tvalid_0's multi_logloss: 1.28893\n",
      "[300]\tvalid_0's multi_logloss: 1.23416\n",
      "[400]\tvalid_0's multi_logloss: 1.18032\n",
      "[500]\tvalid_0's multi_logloss: 1.12948\n",
      "[600]\tvalid_0's multi_logloss: 1.08184\n",
      "[700]\tvalid_0's multi_logloss: 1.03706\n",
      "[800]\tvalid_0's multi_logloss: 0.995237\n",
      "[900]\tvalid_0's multi_logloss: 0.955429\n",
      "[1000]\tvalid_0's multi_logloss: 0.91818\n",
      "[1100]\tvalid_0's multi_logloss: 0.883316\n",
      "[1200]\tvalid_0's multi_logloss: 0.849717\n",
      "[1300]\tvalid_0's multi_logloss: 0.818791\n",
      "[1400]\tvalid_0's multi_logloss: 0.789004\n",
      "[1500]\tvalid_0's multi_logloss: 0.761537\n",
      "[1600]\tvalid_0's multi_logloss: 0.735174\n",
      "[1700]\tvalid_0's multi_logloss: 0.70926\n",
      "[1800]\tvalid_0's multi_logloss: 0.685546\n",
      "[1900]\tvalid_0's multi_logloss: 0.662366\n",
      "[2000]\tvalid_0's multi_logloss: 0.64045\n",
      "[2100]\tvalid_0's multi_logloss: 0.620465\n",
      "[2200]\tvalid_0's multi_logloss: 0.599908\n",
      "[2300]\tvalid_0's multi_logloss: 0.58099\n",
      "[2400]\tvalid_0's multi_logloss: 0.56285\n",
      "[2500]\tvalid_0's multi_logloss: 0.546407\n",
      "[2600]\tvalid_0's multi_logloss: 0.530809\n",
      "[2700]\tvalid_0's multi_logloss: 0.515542\n",
      "[2800]\tvalid_0's multi_logloss: 0.500813\n",
      "[2900]\tvalid_0's multi_logloss: 0.486566\n",
      "[3000]\tvalid_0's multi_logloss: 0.47308\n",
      "[3100]\tvalid_0's multi_logloss: 0.459985\n",
      "[3200]\tvalid_0's multi_logloss: 0.447989\n",
      "[3300]\tvalid_0's multi_logloss: 0.436263\n",
      "[3400]\tvalid_0's multi_logloss: 0.425159\n",
      "[3500]\tvalid_0's multi_logloss: 0.414929\n",
      "[3600]\tvalid_0's multi_logloss: 0.404422\n",
      "[3700]\tvalid_0's multi_logloss: 0.394833\n",
      "[3800]\tvalid_0's multi_logloss: 0.385159\n",
      "[3900]\tvalid_0's multi_logloss: 0.376771\n",
      "[4000]\tvalid_0's multi_logloss: 0.368409\n",
      "[4100]\tvalid_0's multi_logloss: 0.36039\n",
      "[4200]\tvalid_0's multi_logloss: 0.352778\n",
      "[4300]\tvalid_0's multi_logloss: 0.345807\n",
      "[4400]\tvalid_0's multi_logloss: 0.338417\n",
      "[4500]\tvalid_0's multi_logloss: 0.331948\n",
      "[4600]\tvalid_0's multi_logloss: 0.325672\n",
      "[4700]\tvalid_0's multi_logloss: 0.320094\n",
      "[4800]\tvalid_0's multi_logloss: 0.314103\n",
      "[4900]\tvalid_0's multi_logloss: 0.308714\n",
      "[5000]\tvalid_0's multi_logloss: 0.303611\n",
      "[5100]\tvalid_0's multi_logloss: 0.298365\n",
      "[5200]\tvalid_0's multi_logloss: 0.29324\n",
      "[5300]\tvalid_0's multi_logloss: 0.288851\n",
      "[5400]\tvalid_0's multi_logloss: 0.284165\n",
      "[5500]\tvalid_0's multi_logloss: 0.279718\n",
      "[5600]\tvalid_0's multi_logloss: 0.275593\n",
      "[5700]\tvalid_0's multi_logloss: 0.271608\n",
      "[5800]\tvalid_0's multi_logloss: 0.267955\n",
      "[5900]\tvalid_0's multi_logloss: 0.265019\n",
      "[6000]\tvalid_0's multi_logloss: 0.261794\n",
      "[6100]\tvalid_0's multi_logloss: 0.258617\n",
      "[6200]\tvalid_0's multi_logloss: 0.255567\n",
      "[6300]\tvalid_0's multi_logloss: 0.252715\n",
      "[6400]\tvalid_0's multi_logloss: 0.249739\n",
      "[6500]\tvalid_0's multi_logloss: 0.24653\n",
      "[6600]\tvalid_0's multi_logloss: 0.243209\n",
      "[6700]\tvalid_0's multi_logloss: 0.240517\n",
      "[6800]\tvalid_0's multi_logloss: 0.237736\n",
      "[6900]\tvalid_0's multi_logloss: 0.23536\n",
      "[7000]\tvalid_0's multi_logloss: 0.232779\n",
      "[7100]\tvalid_0's multi_logloss: 0.230871\n",
      "[7200]\tvalid_0's multi_logloss: 0.229003\n",
      "[7300]\tvalid_0's multi_logloss: 0.227077\n",
      "[7400]\tvalid_0's multi_logloss: 0.225207\n",
      "[7500]\tvalid_0's multi_logloss: 0.22339\n",
      "[7600]\tvalid_0's multi_logloss: 0.221941\n",
      "[7700]\tvalid_0's multi_logloss: 0.219816\n",
      "[7800]\tvalid_0's multi_logloss: 0.21787\n",
      "[7900]\tvalid_0's multi_logloss: 0.216431\n",
      "[8000]\tvalid_0's multi_logloss: 0.214665\n",
      "[8100]\tvalid_0's multi_logloss: 0.213143\n",
      "[8200]\tvalid_0's multi_logloss: 0.21211\n",
      "[8300]\tvalid_0's multi_logloss: 0.210825\n",
      "[8400]\tvalid_0's multi_logloss: 0.209601\n",
      "[8500]\tvalid_0's multi_logloss: 0.208379\n",
      "[8600]\tvalid_0's multi_logloss: 0.207328\n",
      "[8700]\tvalid_0's multi_logloss: 0.206227\n",
      "[8800]\tvalid_0's multi_logloss: 0.204684\n",
      "[8900]\tvalid_0's multi_logloss: 0.203751\n",
      "[9000]\tvalid_0's multi_logloss: 0.203094\n",
      "[9100]\tvalid_0's multi_logloss: 0.201617\n",
      "[9200]\tvalid_0's multi_logloss: 0.200663\n",
      "[9300]\tvalid_0's multi_logloss: 0.19964\n",
      "[9400]\tvalid_0's multi_logloss: 0.19878\n",
      "[9500]\tvalid_0's multi_logloss: 0.197796\n",
      "[9600]\tvalid_0's multi_logloss: 0.196933\n",
      "[9700]\tvalid_0's multi_logloss: 0.196238\n",
      "[9800]\tvalid_0's multi_logloss: 0.195744\n",
      "[9900]\tvalid_0's multi_logloss: 0.195224\n",
      "[10000]\tvalid_0's multi_logloss: 0.194301\n",
      "fold n°2\n",
      "[100]\tvalid_0's multi_logloss: 1.35728\n"
     ]
    },
    {
     "name": "stdout",
     "output_type": "stream",
     "text": [
      "[200]\tvalid_0's multi_logloss: 1.301\n",
      "[300]\tvalid_0's multi_logloss: 1.24725\n",
      "[400]\tvalid_0's multi_logloss: 1.19492\n",
      "[500]\tvalid_0's multi_logloss: 1.14638\n",
      "[600]\tvalid_0's multi_logloss: 1.10127\n",
      "[700]\tvalid_0's multi_logloss: 1.05864\n",
      "[800]\tvalid_0's multi_logloss: 1.01852\n",
      "[900]\tvalid_0's multi_logloss: 0.981223\n",
      "[1000]\tvalid_0's multi_logloss: 0.945323\n",
      "[1100]\tvalid_0's multi_logloss: 0.911951\n",
      "[1200]\tvalid_0's multi_logloss: 0.879211\n",
      "[1300]\tvalid_0's multi_logloss: 0.848215\n",
      "[1400]\tvalid_0's multi_logloss: 0.819019\n",
      "[1500]\tvalid_0's multi_logloss: 0.791859\n",
      "[1600]\tvalid_0's multi_logloss: 0.766198\n",
      "[1700]\tvalid_0's multi_logloss: 0.741702\n",
      "[1800]\tvalid_0's multi_logloss: 0.719591\n",
      "[1900]\tvalid_0's multi_logloss: 0.697252\n",
      "[2000]\tvalid_0's multi_logloss: 0.675473\n",
      "[2100]\tvalid_0's multi_logloss: 0.655468\n",
      "[2200]\tvalid_0's multi_logloss: 0.636061\n",
      "[2300]\tvalid_0's multi_logloss: 0.618123\n",
      "[2400]\tvalid_0's multi_logloss: 0.601254\n",
      "[2500]\tvalid_0's multi_logloss: 0.584018\n",
      "[2600]\tvalid_0's multi_logloss: 0.569101\n",
      "[2700]\tvalid_0's multi_logloss: 0.554549\n",
      "[2800]\tvalid_0's multi_logloss: 0.540152\n",
      "[2900]\tvalid_0's multi_logloss: 0.526298\n",
      "[3000]\tvalid_0's multi_logloss: 0.514104\n",
      "[3100]\tvalid_0's multi_logloss: 0.503035\n",
      "[3200]\tvalid_0's multi_logloss: 0.491683\n",
      "[3300]\tvalid_0's multi_logloss: 0.480814\n",
      "[3400]\tvalid_0's multi_logloss: 0.470473\n",
      "[3500]\tvalid_0's multi_logloss: 0.460577\n",
      "[3600]\tvalid_0's multi_logloss: 0.451258\n",
      "[3700]\tvalid_0's multi_logloss: 0.442253\n",
      "[3800]\tvalid_0's multi_logloss: 0.433451\n",
      "[3900]\tvalid_0's multi_logloss: 0.425735\n",
      "[4000]\tvalid_0's multi_logloss: 0.417774\n",
      "[4100]\tvalid_0's multi_logloss: 0.410806\n",
      "[4200]\tvalid_0's multi_logloss: 0.403264\n",
      "[4300]\tvalid_0's multi_logloss: 0.396815\n",
      "[4400]\tvalid_0's multi_logloss: 0.38986\n",
      "[4500]\tvalid_0's multi_logloss: 0.383504\n",
      "[4600]\tvalid_0's multi_logloss: 0.377176\n",
      "[4700]\tvalid_0's multi_logloss: 0.371214\n",
      "[4800]\tvalid_0's multi_logloss: 0.36539\n",
      "[4900]\tvalid_0's multi_logloss: 0.360334\n",
      "[5000]\tvalid_0's multi_logloss: 0.35514\n",
      "[5100]\tvalid_0's multi_logloss: 0.35055\n",
      "[5200]\tvalid_0's multi_logloss: 0.346079\n",
      "[5300]\tvalid_0's multi_logloss: 0.341655\n",
      "[5400]\tvalid_0's multi_logloss: 0.337729\n",
      "[5500]\tvalid_0's multi_logloss: 0.334038\n",
      "[5600]\tvalid_0's multi_logloss: 0.330176\n",
      "[5700]\tvalid_0's multi_logloss: 0.326571\n",
      "[5800]\tvalid_0's multi_logloss: 0.32295\n",
      "[5900]\tvalid_0's multi_logloss: 0.319216\n",
      "[6000]\tvalid_0's multi_logloss: 0.315808\n",
      "[6100]\tvalid_0's multi_logloss: 0.312669\n",
      "[6200]\tvalid_0's multi_logloss: 0.309581\n",
      "[6300]\tvalid_0's multi_logloss: 0.306992\n",
      "[6400]\tvalid_0's multi_logloss: 0.303904\n",
      "[6500]\tvalid_0's multi_logloss: 0.301077\n",
      "[6600]\tvalid_0's multi_logloss: 0.298461\n",
      "[6700]\tvalid_0's multi_logloss: 0.296223\n",
      "[6800]\tvalid_0's multi_logloss: 0.293917\n",
      "[6900]\tvalid_0's multi_logloss: 0.291557\n",
      "[7000]\tvalid_0's multi_logloss: 0.288858\n",
      "[7100]\tvalid_0's multi_logloss: 0.286291\n",
      "[7200]\tvalid_0's multi_logloss: 0.28415\n",
      "[7300]\tvalid_0's multi_logloss: 0.281985\n",
      "[7400]\tvalid_0's multi_logloss: 0.280109\n",
      "[7500]\tvalid_0's multi_logloss: 0.277907\n",
      "[7600]\tvalid_0's multi_logloss: 0.276025\n",
      "[7700]\tvalid_0's multi_logloss: 0.274407\n",
      "[7800]\tvalid_0's multi_logloss: 0.272458\n",
      "[7900]\tvalid_0's multi_logloss: 0.270908\n",
      "[8000]\tvalid_0's multi_logloss: 0.269547\n",
      "[8100]\tvalid_0's multi_logloss: 0.268206\n",
      "[8200]\tvalid_0's multi_logloss: 0.266794\n",
      "[8300]\tvalid_0's multi_logloss: 0.265456\n",
      "[8400]\tvalid_0's multi_logloss: 0.264114\n",
      "[8500]\tvalid_0's multi_logloss: 0.262539\n",
      "[8600]\tvalid_0's multi_logloss: 0.26146\n",
      "[8700]\tvalid_0's multi_logloss: 0.260234\n",
      "[8800]\tvalid_0's multi_logloss: 0.258862\n",
      "[8900]\tvalid_0's multi_logloss: 0.258192\n",
      "[9000]\tvalid_0's multi_logloss: 0.257494\n",
      "[9100]\tvalid_0's multi_logloss: 0.256418\n",
      "[9200]\tvalid_0's multi_logloss: 0.255791\n",
      "[9300]\tvalid_0's multi_logloss: 0.254981\n",
      "[9400]\tvalid_0's multi_logloss: 0.254163\n",
      "[9500]\tvalid_0's multi_logloss: 0.253199\n",
      "[9600]\tvalid_0's multi_logloss: 0.252406\n",
      "[9700]\tvalid_0's multi_logloss: 0.25138\n",
      "[9800]\tvalid_0's multi_logloss: 0.25051\n",
      "[9900]\tvalid_0's multi_logloss: 0.249768\n",
      "[10000]\tvalid_0's multi_logloss: 0.249529\n",
      "fold n°3\n",
      "[100]\tvalid_0's multi_logloss: 1.35754\n",
      "[200]\tvalid_0's multi_logloss: 1.30794\n",
      "[300]\tvalid_0's multi_logloss: 1.25931\n",
      "[400]\tvalid_0's multi_logloss: 1.21168\n",
      "[500]\tvalid_0's multi_logloss: 1.16921\n",
      "[600]\tvalid_0's multi_logloss: 1.13089\n",
      "[700]\tvalid_0's multi_logloss: 1.09473\n",
      "[800]\tvalid_0's multi_logloss: 1.06203\n",
      "[900]\tvalid_0's multi_logloss: 1.02991\n",
      "[1000]\tvalid_0's multi_logloss: 1.0009\n",
      "[1100]\tvalid_0's multi_logloss: 0.973026\n",
      "[1200]\tvalid_0's multi_logloss: 0.947098\n",
      "[1300]\tvalid_0's multi_logloss: 0.922755\n",
      "[1400]\tvalid_0's multi_logloss: 0.899361\n",
      "[1500]\tvalid_0's multi_logloss: 0.879051\n",
      "[1600]\tvalid_0's multi_logloss: 0.858914\n",
      "[1700]\tvalid_0's multi_logloss: 0.840223\n",
      "[1800]\tvalid_0's multi_logloss: 0.822247\n",
      "[1900]\tvalid_0's multi_logloss: 0.805973\n",
      "[2000]\tvalid_0's multi_logloss: 0.790578\n",
      "[2100]\tvalid_0's multi_logloss: 0.776102\n",
      "[2200]\tvalid_0's multi_logloss: 0.762378\n",
      "[2300]\tvalid_0's multi_logloss: 0.749881\n",
      "[2400]\tvalid_0's multi_logloss: 0.738036\n",
      "[2500]\tvalid_0's multi_logloss: 0.727023\n",
      "[2600]\tvalid_0's multi_logloss: 0.716707\n",
      "[2700]\tvalid_0's multi_logloss: 0.706637\n",
      "[2800]\tvalid_0's multi_logloss: 0.69732\n",
      "[2900]\tvalid_0's multi_logloss: 0.688935\n",
      "[3000]\tvalid_0's multi_logloss: 0.680657\n",
      "[3100]\tvalid_0's multi_logloss: 0.672543\n",
      "[3200]\tvalid_0's multi_logloss: 0.665291\n",
      "[3300]\tvalid_0's multi_logloss: 0.658943\n",
      "[3400]\tvalid_0's multi_logloss: 0.652424\n",
      "[3500]\tvalid_0's multi_logloss: 0.645775\n",
      "[3600]\tvalid_0's multi_logloss: 0.639623\n",
      "[3700]\tvalid_0's multi_logloss: 0.634309\n",
      "[3800]\tvalid_0's multi_logloss: 0.629156\n",
      "[3900]\tvalid_0's multi_logloss: 0.624421\n",
      "[4000]\tvalid_0's multi_logloss: 0.619598\n",
      "[4100]\tvalid_0's multi_logloss: 0.614852\n",
      "[4200]\tvalid_0's multi_logloss: 0.611287\n",
      "[4300]\tvalid_0's multi_logloss: 0.606902\n",
      "[4400]\tvalid_0's multi_logloss: 0.603573\n",
      "[4500]\tvalid_0's multi_logloss: 0.600406\n",
      "[4600]\tvalid_0's multi_logloss: 0.59739\n",
      "[4700]\tvalid_0's multi_logloss: 0.594712\n",
      "[4800]\tvalid_0's multi_logloss: 0.591827\n",
      "[4900]\tvalid_0's multi_logloss: 0.589297\n",
      "[5000]\tvalid_0's multi_logloss: 0.587265\n",
      "[5100]\tvalid_0's multi_logloss: 0.58584\n",
      "[5200]\tvalid_0's multi_logloss: 0.584281\n",
      "[5300]\tvalid_0's multi_logloss: 0.58267\n",
      "[5400]\tvalid_0's multi_logloss: 0.580847\n",
      "[5500]\tvalid_0's multi_logloss: 0.579476\n",
      "[5600]\tvalid_0's multi_logloss: 0.577524\n",
      "[5700]\tvalid_0's multi_logloss: 0.576378\n",
      "[5800]\tvalid_0's multi_logloss: 0.57539\n",
      "[5900]\tvalid_0's multi_logloss: 0.574217\n",
      "[6000]\tvalid_0's multi_logloss: 0.573173\n",
      "[6100]\tvalid_0's multi_logloss: 0.572277\n",
      "[6200]\tvalid_0's multi_logloss: 0.571423\n",
      "[6300]\tvalid_0's multi_logloss: 0.570649\n",
      "[6400]\tvalid_0's multi_logloss: 0.570155\n",
      "[6500]\tvalid_0's multi_logloss: 0.569784\n",
      "[6600]\tvalid_0's multi_logloss: 0.569585\n",
      "[6700]\tvalid_0's multi_logloss: 0.568517\n",
      "[6800]\tvalid_0's multi_logloss: 0.568185\n",
      "[6900]\tvalid_0's multi_logloss: 0.567747\n",
      "[7000]\tvalid_0's multi_logloss: 0.56769\n",
      "[7100]\tvalid_0's multi_logloss: 0.567182\n",
      "[7200]\tvalid_0's multi_logloss: 0.567047\n",
      "[7300]\tvalid_0's multi_logloss: 0.567166\n",
      "[7400]\tvalid_0's multi_logloss: 0.5671\n",
      "[7500]\tvalid_0's multi_logloss: 0.567294\n",
      "[7600]\tvalid_0's multi_logloss: 0.56744\n",
      "[7700]\tvalid_0's multi_logloss: 0.567755\n",
      "[7800]\tvalid_0's multi_logloss: 0.568042\n",
      "[7900]\tvalid_0's multi_logloss: 0.568176\n",
      "[8000]\tvalid_0's multi_logloss: 0.568374\n",
      "[8100]\tvalid_0's multi_logloss: 0.568258\n",
      "[8200]\tvalid_0's multi_logloss: 0.568487\n",
      "[8300]\tvalid_0's multi_logloss: 0.568609\n",
      "[8400]\tvalid_0's multi_logloss: 0.568681\n",
      "[8500]\tvalid_0's multi_logloss: 0.56893\n",
      "[8600]\tvalid_0's multi_logloss: 0.569278\n",
      "[8700]\tvalid_0's multi_logloss: 0.569506\n",
      "[8800]\tvalid_0's multi_logloss: 0.569629\n",
      "[8900]\tvalid_0's multi_logloss: 0.57003\n",
      "[9000]\tvalid_0's multi_logloss: 0.570264\n",
      "[9100]\tvalid_0's multi_logloss: 0.570972\n",
      "[9200]\tvalid_0's multi_logloss: 0.571371\n",
      "[9300]\tvalid_0's multi_logloss: 0.571787\n",
      "[9400]\tvalid_0's multi_logloss: 0.572284\n",
      "[9500]\tvalid_0's multi_logloss: 0.572711\n",
      "[9600]\tvalid_0's multi_logloss: 0.573332\n",
      "[9700]\tvalid_0's multi_logloss: 0.573786\n",
      "[9800]\tvalid_0's multi_logloss: 0.574074\n",
      "[9900]\tvalid_0's multi_logloss: 0.574413\n",
      "[10000]\tvalid_0's multi_logloss: 0.574535\n",
      "fold n°4\n",
      "[100]\tvalid_0's multi_logloss: 1.39424\n",
      "[200]\tvalid_0's multi_logloss: 1.32271\n"
     ]
    },
    {
     "name": "stdout",
     "output_type": "stream",
     "text": [
      "[300]\tvalid_0's multi_logloss: 1.25367\n",
      "[400]\tvalid_0's multi_logloss: 1.18547\n",
      "[500]\tvalid_0's multi_logloss: 1.11885\n",
      "[600]\tvalid_0's multi_logloss: 1.05806\n",
      "[700]\tvalid_0's multi_logloss: 1.00288\n",
      "[800]\tvalid_0's multi_logloss: 0.952051\n",
      "[900]\tvalid_0's multi_logloss: 0.90454\n",
      "[1000]\tvalid_0's multi_logloss: 0.860243\n",
      "[1100]\tvalid_0's multi_logloss: 0.819322\n",
      "[1200]\tvalid_0's multi_logloss: 0.781067\n",
      "[1300]\tvalid_0's multi_logloss: 0.745698\n",
      "[1400]\tvalid_0's multi_logloss: 0.712148\n",
      "[1500]\tvalid_0's multi_logloss: 0.680655\n",
      "[1600]\tvalid_0's multi_logloss: 0.651504\n",
      "[1700]\tvalid_0's multi_logloss: 0.62485\n",
      "[1800]\tvalid_0's multi_logloss: 0.599132\n",
      "[1900]\tvalid_0's multi_logloss: 0.575892\n",
      "[2000]\tvalid_0's multi_logloss: 0.553381\n",
      "[2100]\tvalid_0's multi_logloss: 0.532121\n",
      "[2200]\tvalid_0's multi_logloss: 0.512204\n",
      "[2300]\tvalid_0's multi_logloss: 0.493386\n",
      "[2400]\tvalid_0's multi_logloss: 0.475577\n",
      "[2500]\tvalid_0's multi_logloss: 0.458473\n",
      "[2600]\tvalid_0's multi_logloss: 0.442371\n",
      "[2700]\tvalid_0's multi_logloss: 0.427272\n",
      "[2800]\tvalid_0's multi_logloss: 0.412672\n",
      "[2900]\tvalid_0's multi_logloss: 0.399267\n",
      "[3000]\tvalid_0's multi_logloss: 0.386916\n",
      "[3100]\tvalid_0's multi_logloss: 0.374514\n",
      "[3200]\tvalid_0's multi_logloss: 0.362884\n",
      "[3300]\tvalid_0's multi_logloss: 0.352025\n",
      "[3400]\tvalid_0's multi_logloss: 0.341932\n",
      "[3500]\tvalid_0's multi_logloss: 0.332212\n",
      "[3600]\tvalid_0's multi_logloss: 0.322882\n",
      "[3700]\tvalid_0's multi_logloss: 0.314091\n",
      "[3800]\tvalid_0's multi_logloss: 0.305562\n",
      "[3900]\tvalid_0's multi_logloss: 0.297474\n",
      "[4000]\tvalid_0's multi_logloss: 0.289687\n",
      "[4100]\tvalid_0's multi_logloss: 0.282767\n",
      "[4200]\tvalid_0's multi_logloss: 0.276504\n",
      "[4300]\tvalid_0's multi_logloss: 0.269791\n",
      "[4400]\tvalid_0's multi_logloss: 0.263941\n",
      "[4500]\tvalid_0's multi_logloss: 0.257861\n",
      "[4600]\tvalid_0's multi_logloss: 0.252355\n",
      "[4700]\tvalid_0's multi_logloss: 0.247436\n",
      "[4800]\tvalid_0's multi_logloss: 0.242386\n",
      "[4900]\tvalid_0's multi_logloss: 0.237427\n",
      "[5000]\tvalid_0's multi_logloss: 0.233082\n",
      "[5100]\tvalid_0's multi_logloss: 0.228807\n",
      "[5200]\tvalid_0's multi_logloss: 0.224737\n",
      "[5300]\tvalid_0's multi_logloss: 0.221259\n",
      "[5400]\tvalid_0's multi_logloss: 0.218082\n",
      "[5500]\tvalid_0's multi_logloss: 0.214696\n",
      "[5600]\tvalid_0's multi_logloss: 0.211561\n",
      "[5700]\tvalid_0's multi_logloss: 0.208338\n",
      "[5800]\tvalid_0's multi_logloss: 0.205597\n",
      "[5900]\tvalid_0's multi_logloss: 0.203194\n",
      "[6000]\tvalid_0's multi_logloss: 0.200666\n",
      "[6100]\tvalid_0's multi_logloss: 0.198166\n",
      "[6200]\tvalid_0's multi_logloss: 0.19565\n",
      "[6300]\tvalid_0's multi_logloss: 0.193419\n",
      "[6400]\tvalid_0's multi_logloss: 0.191513\n",
      "[6500]\tvalid_0's multi_logloss: 0.189608\n",
      "[6600]\tvalid_0's multi_logloss: 0.187755\n",
      "[6700]\tvalid_0's multi_logloss: 0.186102\n",
      "[6800]\tvalid_0's multi_logloss: 0.18443\n",
      "[6900]\tvalid_0's multi_logloss: 0.183357\n",
      "[7000]\tvalid_0's multi_logloss: 0.181886\n",
      "[7100]\tvalid_0's multi_logloss: 0.180654\n",
      "[7200]\tvalid_0's multi_logloss: 0.179436\n",
      "[7300]\tvalid_0's multi_logloss: 0.178638\n",
      "[7400]\tvalid_0's multi_logloss: 0.177595\n",
      "[7500]\tvalid_0's multi_logloss: 0.176766\n",
      "[7600]\tvalid_0's multi_logloss: 0.175472\n",
      "[7700]\tvalid_0's multi_logloss: 0.1747\n",
      "[7800]\tvalid_0's multi_logloss: 0.173647\n",
      "[7900]\tvalid_0's multi_logloss: 0.172857\n",
      "[8000]\tvalid_0's multi_logloss: 0.172154\n",
      "[8100]\tvalid_0's multi_logloss: 0.171517\n",
      "[8200]\tvalid_0's multi_logloss: 0.170797\n",
      "[8300]\tvalid_0's multi_logloss: 0.170332\n",
      "[8400]\tvalid_0's multi_logloss: 0.169596\n",
      "[8500]\tvalid_0's multi_logloss: 0.168949\n",
      "[8600]\tvalid_0's multi_logloss: 0.168329\n",
      "[8700]\tvalid_0's multi_logloss: 0.167513\n",
      "[8800]\tvalid_0's multi_logloss: 0.167194\n",
      "[8900]\tvalid_0's multi_logloss: 0.167018\n",
      "[9000]\tvalid_0's multi_logloss: 0.16661\n",
      "[9100]\tvalid_0's multi_logloss: 0.166578\n",
      "[9200]\tvalid_0's multi_logloss: 0.166248\n",
      "[9300]\tvalid_0's multi_logloss: 0.166145\n",
      "[9400]\tvalid_0's multi_logloss: 0.165903\n",
      "[9500]\tvalid_0's multi_logloss: 0.165522\n",
      "[9600]\tvalid_0's multi_logloss: 0.165158\n",
      "[9700]\tvalid_0's multi_logloss: 0.165083\n",
      "[9800]\tvalid_0's multi_logloss: 0.164805\n",
      "[9900]\tvalid_0's multi_logloss: 0.164577\n",
      "[10000]\tvalid_0's multi_logloss: 0.164511\n"
     ]
    }
   ],
   "source": [
    "feature_importance_df_cf, oof_cf=run_cv(train_set,target_cf,4)\n",
    "#train_set is the X,target_cf is the y,4: number of classs; "
   ]
  },
  {
   "cell_type": "code",
   "execution_count": 27,
   "metadata": {},
   "outputs": [
    {
     "data": {
      "text/plain": [
       "0.10344827586206895"
      ]
     },
     "execution_count": 27,
     "metadata": {},
     "output_type": "execute_result"
    }
   ],
   "source": [
    "#to check overall prediction result; \n",
    "pred=np.zeros([len(oof_cf)])\n",
    "for i in range(len(oof_cf)):\n",
    "    pred[i]=np.argmax(oof_cf[i])\n",
    "    cm=confusion_matrix(target_cf, pred)\n",
    "1-sum(cm.diagonal())/np.sum(cm)  #this is overall prediction errors; "
   ]
  },
  {
   "cell_type": "code",
   "execution_count": 28,
   "metadata": {},
   "outputs": [
    {
     "data": {
      "text/plain": [
       "array([[28,  2,  0,  0],\n",
       "       [ 2, 24,  4,  0],\n",
       "       [ 0,  3, 24,  0],\n",
       "       [ 0,  0,  1, 28]], dtype=int64)"
      ]
     },
     "execution_count": 28,
     "metadata": {},
     "output_type": "execute_result"
    }
   ],
   "source": [
    "cm #confusion matrix; "
   ]
  },
  {
   "cell_type": "code",
   "execution_count": 29,
   "metadata": {},
   "outputs": [],
   "source": [
    "cols = (feature_importance_df_cf[[\"feature\", \"importance\"]]\\\n",
    "        .groupby(\"feature\")\\\n",
    "        .mean()\\\n",
    "        .sort_values(by=\"importance\", ascending=False).iloc[:50,:].index)"
   ]
  },
  {
   "cell_type": "code",
   "execution_count": null,
   "metadata": {
    "scrolled": true
   },
   "outputs": [],
   "source": [
    "cols"
   ]
  },
  {
   "cell_type": "code",
   "execution_count": 30,
   "metadata": {},
   "outputs": [],
   "source": [
    "#roc and PR curve\n",
    "#calculate ROC for a particular class\n",
    "# Compute ROC curve and ROC area for each class\n",
    "fpr = dict()\n",
    "tpr = dict()\n",
    "roc_auc = dict()\n",
    "n_classes=4\n",
    "\n",
    "y = label_binarize(target_cf, classes=[0, 1, 2,3])\n",
    "for i in range(n_classes):\n",
    "    fpr[i], tpr[i], _ = roc_curve(y[:, i], oof_cf[:, i])\n",
    "    roc_auc[i] = auc(fpr[i], tpr[i])\n",
    "\n",
    "# Compute micro-average ROC curve and ROC area\n",
    "fpr[\"micro\"], tpr[\"micro\"], _ = roc_curve(y.ravel(), oof_cf.ravel())\n",
    "roc_auc[\"micro\"] = auc(fpr[\"micro\"], tpr[\"micro\"])"
   ]
  },
  {
   "cell_type": "code",
   "execution_count": 31,
   "metadata": {},
   "outputs": [
    {
     "data": {
      "image/png": "[encoded data removed]",
      "text/plain": [
       "<Figure size 432x288 with 1 Axes>"
      ]
     },
     "metadata": {
      "needs_background": "light"
     },
     "output_type": "display_data"
    }
   ],
   "source": [
    "#plot roc for one class\n",
    "plt.figure()\n",
    "lw = 2\n",
    "plt.plot(fpr[2], tpr[2], color='darkorange',\n",
    "         lw=lw, label='ROC curve (area = %0.2f)' % roc_auc[2])\n",
    "plt.plot([0, 1], [0, 1], color='navy', lw=lw, linestyle='--')\n",
    "plt.xlim([0.0, 1.0])\n",
    "plt.ylim([0.0, 1.05])\n",
    "plt.xlabel('False Positive Rate')\n",
    "plt.ylabel('True Positive Rate')\n",
    "plt.title('Receiver operating characteristic example')\n",
    "plt.legend(loc=\"lower right\")\n",
    "plt.show()"
   ]
  },
  {
   "cell_type": "code",
   "execution_count": 32,
   "metadata": {},
   "outputs": [
    {
     "name": "stderr",
     "output_type": "stream",
     "text": [
      "C:\\Users\\Hemiao Cui\\anaconda3\\lib\\site-packages\\ipykernel_launcher.py:10: DeprecationWarning: scipy.interp is deprecated and will be removed in SciPy 2.0.0, use numpy.interp instead\n",
      "  # Remove the CWD from sys.path while we load stuff.\n"
     ]
    },
    {
     "data": {
      "image/png": "[encoded data removed]",
      "text/plain": [
       "<Figure size 720x720 with 1 Axes>"
      ]
     },
     "metadata": {
      "needs_background": "light"
     },
     "output_type": "display_data"
    }
   ],
   "source": [
    "# Compute macro-average ROC curve and ROC area\n",
    "from pylab import rcParams\n",
    "rcParams['figure.figsize'] = 10, 10\n",
    "# First aggregate all false positive rates\n",
    "all_fpr = np.unique(np.concatenate([fpr[i] for i in range(n_classes)]))\n",
    "\n",
    "# Then interpolate all ROC curves at this points\n",
    "mean_tpr = np.zeros_like(all_fpr)\n",
    "for i in range(n_classes):\n",
    "    mean_tpr += interp(all_fpr, fpr[i], tpr[i])\n",
    "\n",
    "# Finally average it and compute AUC\n",
    "mean_tpr /= n_classes\n",
    "\n",
    "fpr[\"macro\"] = all_fpr\n",
    "tpr[\"macro\"] = mean_tpr\n",
    "roc_auc[\"macro\"] = auc(fpr[\"macro\"], tpr[\"macro\"])\n",
    "\n",
    "# Plot all ROC curves\n",
    "plt.figure()\n",
    "plt.plot(fpr[\"micro\"], tpr[\"micro\"],\n",
    "         label='micro-average ROC curve (area = {0:0.2f})'\n",
    "               ''.format(roc_auc[\"micro\"]),\n",
    "         color='deeppink', linestyle=':', linewidth=4)\n",
    "\n",
    "plt.plot(fpr[\"macro\"], tpr[\"macro\"],\n",
    "         label='macro-average ROC curve (area = {0:0.2f})'\n",
    "               ''.format(roc_auc[\"macro\"]),\n",
    "         color='navy', linestyle=':', linewidth=4)\n",
    "\n",
    "colors = cycle(['aqua', 'darkorange', 'cornflowerblue'])\n",
    "for i, color in zip(range(n_classes), colors):\n",
    "    plt.plot(fpr[i], tpr[i], color=color, lw=lw,\n",
    "             label='ROC curve of class {0} (area = {1:0.2f})'\n",
    "             ''.format(i, roc_auc[i]))\n",
    "\n",
    "plt.plot([0, 1], [0, 1], 'k--', lw=lw)\n",
    "plt.xlim([0.0, 1.0])\n",
    "plt.ylim([0.0, 1.05])\n",
    "plt.xlabel('False Positive Rate')\n",
    "plt.ylabel('True Positive Rate')\n",
    "plt.title('Receiver operating characteristic to multi-class')\n",
    "plt.legend(loc=\"lower right\")\n",
    "plt.show()\n"
   ]
  },
  {
   "cell_type": "code",
   "execution_count": 33,
   "metadata": {},
   "outputs": [
    {
     "name": "stdout",
     "output_type": "stream",
     "text": [
      "Confusion matrix, without normalization\n",
      "[[28  2  0  0]\n",
      " [ 2 24  4  0]\n",
      " [ 0  3 24  0]\n",
      " [ 0  0  1 28]]\n"
     ]
    },
    {
     "data": {
      "image/png": "[encoded data removed]",
      "text/plain": [
       "<Figure size 720x720 with 2 Axes>"
      ]
     },
     "metadata": {
      "needs_background": "light"
     },
     "output_type": "display_data"
    }
   ],
   "source": [
    "#plot confusion matrix in nicer way: \n",
    "from sklearn.utils.multiclass import unique_labels\n",
    "def plot_confusion_matrix(y_true, y_pred, classes,\n",
    "                          normalize=False,\n",
    "                          title=None,\n",
    "                          cmap=plt.cm.Blues):\n",
    "    \"\"\"\n",
    "    This function prints and plots the confusion matrix.\n",
    "    Normalization can be applied by setting `normalize=True`.\n",
    "    \"\"\"\n",
    "    if not title:\n",
    "        if normalize:\n",
    "            title = 'Normalized confusion matrix'\n",
    "        else:\n",
    "            title = 'Confusion matrix, without normalization'\n",
    "\n",
    "    # Compute confusion matrix\n",
    "    cm = confusion_matrix(y_true, y_pred)\n",
    "    # Only use the labels that appear in the data\n",
    "    classes = classes[unique_labels(y_true, y_pred)]\n",
    "    if normalize:\n",
    "        cm = cm.astype('float') / cm.sum(axis=1)[:, np.newaxis]\n",
    "        print(\"Normalized confusion matrix\")\n",
    "    else:\n",
    "        print('Confusion matrix, without normalization')\n",
    "\n",
    "    print(cm)\n",
    "\n",
    "    fig, ax = plt.subplots()\n",
    "    im = ax.imshow(cm, interpolation='nearest', cmap=cmap)\n",
    "    ax.figure.colorbar(im, ax=ax)\n",
    "    # We want to show all ticks...\n",
    "    ax.set(xticks=np.arange(cm.shape[1]),\n",
    "           yticks=np.arange(cm.shape[0]),\n",
    "           # ... and label them with the respective list entries\n",
    "           xticklabels=classes, yticklabels=classes,\n",
    "           title=title,\n",
    "           ylabel='True label',\n",
    "           xlabel='Predicted label')\n",
    "\n",
    "    # Rotate the tick labels and set their alignment.\n",
    "    plt.setp(ax.get_xticklabels(), rotation=45, ha=\"right\",\n",
    "             rotation_mode=\"anchor\")\n",
    "\n",
    "    # Loop over data dimensions and create text annotations.\n",
    "    fmt = '.2f' if normalize else 'd'\n",
    "    thresh = cm.max() / 2.\n",
    "    for i in range(cm.shape[0]):\n",
    "        for j in range(cm.shape[1]):\n",
    "            ax.text(j, i, format(cm[i, j], fmt),\n",
    "                    ha=\"center\", va=\"center\",\n",
    "                    color=\"white\" if cm[i, j] > thresh else \"black\")\n",
    "    fig.tight_layout()\n",
    "    return ax\n",
    "\n",
    "\n",
    "np.set_printoptions(precision=2)\n",
    "class_names=np.array(['0ppm','2ppm','10ppm','15ppm'])\n",
    "# Plot non-normalized confusion matrix\n",
    "plot_confusion_matrix(target_cf, pred, classes=class_names,title='Confusion matrix')\n",
    "\n",
    "\n",
    "plt.show()"
   ]
  },
  {
   "cell_type": "code",
   "execution_count": null,
   "metadata": {},
   "outputs": [],
   "source": [
    "#plot the FTIR raw specra  if needed; \n",
    "plt.plot(train_set.columns,train_set.iloc[0,:])"
   ]
  },
  {
   "cell_type": "code",
   "execution_count": null,
   "metadata": {},
   "outputs": [],
   "source": [
    "#plot feature importantance plot for baceria inactivation if needed; \n",
    "feature_importance_df_cf[[\"feature\", \"importance\"]]\\\n",
    "        .groupby(\"feature\")\\\n",
    "        .mean()\\\n",
    "        .sort_values(by=\"importance\", ascending=False).iloc[:50,:]"
   ]
  },
  {
   "cell_type": "code",
   "execution_count": null,
   "metadata": {},
   "outputs": [],
   "source": [
    "f_im=feature_importance_df_cf[[\"feature\", \"importance\"]]\\\n",
    "        .groupby(\"feature\")\\\n",
    "        .mean()"
   ]
  },
  {
   "cell_type": "code",
   "execution_count": null,
   "metadata": {},
   "outputs": [],
   "source": [
    "spectra=df.iloc[0,:]"
   ]
  },
  {
   "cell_type": "code",
   "execution_count": null,
   "metadata": {},
   "outputs": [],
   "source": [
    "f_im['spectra']=spectra"
   ]
  },
  {
   "cell_type": "code",
   "execution_count": null,
   "metadata": {},
   "outputs": [],
   "source": [
    "f_im=f_im.reset_index()"
   ]
  },
  {
   "cell_type": "code",
   "execution_count": null,
   "metadata": {},
   "outputs": [],
   "source": [
    "ax = f_im.plot(x=\"feature\", y=\"importance\", legend=False)\n",
    "ax2 = ax.twinx()\n",
    "f_im.plot(x=\"feature\", y=\"spectra\", ax=ax2, legend=False, color=\"r\")\n",
    "ax.figure.legend()\n",
    "plt.show()"
   ]
  },
  {
   "cell_type": "code",
   "execution_count": null,
   "metadata": {},
   "outputs": [],
   "source": [
    "\n"
   ]
  }
 ],
 "metadata": {
  "kernelspec": {
   "display_name": "Python 3",
   "language": "python",
   "name": "python3"
  },
  "language_info": {
   "codemirror_mode": {
    "name": "ipython",
    "version": 3
   },
   "file_extension": ".py",
   "mimetype": "text/x-python",
   "name": "python",
   "nbconvert_exporter": "python",
   "pygments_lexer": "ipython3",
   "version": "3.9.1"
  }
 },
 "nbformat": 4,
 "nbformat_minor": 2
}
